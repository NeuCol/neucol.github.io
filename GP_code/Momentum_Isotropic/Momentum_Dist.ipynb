{
 "cells": [
  {
   "cell_type": "code",
   "execution_count": null,
   "metadata": {},
   "outputs": [],
   "source": [
    "# We need PyTorch and GPyTorch\n",
    "import torch\n",
    "from torch import Tensor\n",
    "import gpytorch\n",
    "# Gaussian processes really don't work well without 64-bit precision\n",
    "torch.set_default_dtype(torch.float64)\n",
    "\n",
    "from norm_constrain import NormConstrainedKernel, NormConstrainedMean\n",
    "\n",
    "# And a few more players\n",
    "import numpy as np\n",
    "from matplotlib import pyplot as plt\n",
    "import matplotlib.cm as cm\n",
    "%matplotlib inline"
   ]
  },
  {
   "cell_type": "code",
   "execution_count": null,
   "metadata": {},
   "outputs": [],
   "source": [
    "# Import the data, check normalization, which should be 2 * (2\\pi**2)\n",
    "\n",
    "with open('nk_afdmc.dat', 'r') as fd:\n",
    "    lines = fd.readlines()\n",
    "\n",
    "x = [] ; y = [] ; err = []\n",
    "for line in lines:\n",
    "    buf = line.split()\n",
    "    x.append(float(buf[0]))\n",
    "    y.append(float(buf[1]))\n",
    "    err.append(float(buf[2]))\n",
    "x = np.array(x) ; y = np.array(y) ; err = np.array(err)\n",
    "\n",
    "dx = x[1]-x[0]\n",
    "ig = (y * x**2).sum() *dx / (2 * np.pi**2)\n",
    "print(ig)\n"
   ]
  },
  {
   "cell_type": "code",
   "execution_count": null,
   "metadata": {},
   "outputs": [],
   "source": [
    "# Subsample training data\n",
    "subrate = 10\n",
    "train_x = torch.tensor(x[::subrate])\n",
    "train_y = torch.tensor(y[::subrate])\n",
    "train_err = torch.tensor(err[::subrate])\n",
    "\n",
    "\n",
    "# Normalization value\n",
    "nval = 4 * np.pi**2\n",
    "\n",
    "# Create the GPyTorch model\n",
    "class GPRegressionModel(gpytorch.models.ExactGP):\n",
    "    def __init__(self, train_x, train_y, likelihood, nval):\n",
    "        super(GPRegressionModel, self).__init__(train_x, train_y, likelihood)\n",
    "\n",
    "        \n",
    "        # Using the normalization-constrained model\n",
    "        self.covar_module = NormConstrainedKernel(norm_value=nval)\n",
    "        self.mean_module = NormConstrainedMean(norm_value=nval)\n",
    "        \n",
    " \n",
    "    def forward(self, x):\n",
    "        self.mean_module.sigma = self.covar_module.sigma\n",
    "        self.mean_module.gamma = self.covar_module.gamma\n",
    "        mean_x = self.mean_module(x)\n",
    "        covar_x = self.covar_module(x)\n",
    "        return gpytorch.distributions.MultivariateNormal(mean_x, covar_x)\n",
    "\n",
    "likelihood = gpytorch.likelihoods.FixedNoiseGaussianLikelihood(noise=train_err)\n",
    "\n",
    "model = GPRegressionModel(train_x, train_y, likelihood, nval)\n"
   ]
  },
  {
   "cell_type": "code",
   "execution_count": null,
   "metadata": {},
   "outputs": [],
   "source": [
    "# Training\n",
    "training_iter = 100\n",
    "\n",
    "model.train()\n",
    "likelihood.train()\n",
    "\n",
    "# Use the adam optimizer\n",
    "optimizer = torch.optim.Adam(model.parameters(), lr=0.1)  # Includes GaussianLikelihood parameters\n",
    "\n",
    "# \"Loss\" for GPs - the marginal log likelihood\n",
    "mll = gpytorch.mlls.ExactMarginalLogLikelihood(likelihood, model)\n",
    "\n",
    "for i in range(training_iter):\n",
    "    # Zero gradients from previous iteration\n",
    "    optimizer.zero_grad()\n",
    "    # Output from model\n",
    "    output = model(train_x)\n",
    "    print(output)\n",
    "    # Calc loss and backprop gradients\n",
    "    loss = -mll(output, train_y)\n",
    "    print(loss.shape)\n",
    "    loss.backward()\n",
    "    print('Iter %d/%d - Loss: %.3f   sigma: %.3f   gamma: %.3f' % (\n",
    "        i + 1, training_iter, loss.item(),\n",
    "        model.covar_module.sigma.item(),\n",
    "        model.covar_module.gamma.item()\n",
    "    ))\n",
    "    optimizer.step()"
   ]
  }
 ],
 "metadata": {
  "kernelspec": {
   "display_name": "pytorch.venv",
   "language": "python",
   "name": "python3"
  },
  "language_info": {
   "codemirror_mode": {
    "name": "ipython",
    "version": 3
   },
   "file_extension": ".py",
   "mimetype": "text/x-python",
   "name": "python",
   "nbconvert_exporter": "python",
   "pygments_lexer": "ipython3",
   "version": "3.8.10"
  }
 },
 "nbformat": 4,
 "nbformat_minor": 2
}
